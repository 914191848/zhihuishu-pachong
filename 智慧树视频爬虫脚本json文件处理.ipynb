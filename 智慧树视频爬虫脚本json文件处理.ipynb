{
 "cells": [
  {
   "cell_type": "code",
   "execution_count": 1,
   "id": "805617fa",
   "metadata": {},
   "outputs": [],
   "source": [
    "import json"
   ]
  },
  {
   "cell_type": "code",
   "execution_count": 9,
   "id": "b55efc06",
   "metadata": {},
   "outputs": [],
   "source": [
    "# 读取json\n",
    "json_file = r'C:\\Users\\Name3.DESKTOP-9PEAAC4\\Desktop\\新建文件夹 (3)\\20251026060159273.json'\n",
    "with open(json_file, \"r\", encoding=\"utf-8\") as f:\n",
    "    data = json.load(f)\n",
    "# \".\".join([\"{:02d}\".format(int(p)) for p in item['number'].split(\".\")]) #编号 x.x --> xx.xx"
   ]
  },
  {
   "cell_type": "code",
   "execution_count": null,
   "id": "f64c4cca",
   "metadata": {},
   "outputs": [],
   "source": [
    "# 编号 x.x --> xx.xx\n",
    "updated_data = [dict(item, name=\".\".join([\"{:02d}\".format(int(p)) for p in item['number'].split(\".\")]) +' '+item['title']) for item in data]"
   ]
  },
  {
   "cell_type": "code",
   "execution_count": null,
   "id": "752dd743",
   "metadata": {},
   "outputs": [],
   "source": [
    "# 补充referer url，将下载链接补充完整\n",
    "referer = 'https://wsvideo.zhihuishu.com/zhs/zhihuishu_creatCourse_h5/CHAPTERVIDEO/202209'\n",
    "# 输出下载链接、文件名、referer\n",
    "updated_data2 = [\n",
    "   {\"url\":item['realUrl'],'referer':referer,'filename':item['name']} for item in updated_data\n",
    "   ]\n",
    "# 打印下载链接\n",
    "[print(item['url']+'|'+'\"'+item['filename']+'\"'+'|'+item['referer']) for item in updated_data2]"
   ]
  },
  {
   "cell_type": "code",
   "execution_count": null,
   "id": "405e1bef",
   "metadata": {},
   "outputs": [],
   "source": [
    "#下载文件重命名\n",
    "updated_data3 = [\n",
    "    {'filename':item['filename']+'.mp4', 'download_name':item['url'].split('/')[-1]} for item in updated_data2\n",
    "]\n",
    "\n",
    "import os\n",
    "folder = r'C:\\Users\\Name3.DESKTOP-9PEAAC4\\Desktop\\新建文件夹 (3)'\n",
    "for item in updated_data3:\n",
    "    try:\n",
    "        origin_name = os.path.join(folder,item['download_name'])\n",
    "        new_name = os.path.join(folder,item['filename'])\n",
    "        os.rename(origin_name, new_name)\n",
    "    except:\n",
    "        print(origin_name)"
   ]
  }
 ],
 "metadata": {
  "kernelspec": {
   "display_name": "base",
   "language": "python",
   "name": "python3"
  },
  "language_info": {
   "codemirror_mode": {
    "name": "ipython",
    "version": 3
   },
   "file_extension": ".py",
   "mimetype": "text/x-python",
   "name": "python",
   "nbconvert_exporter": "python",
   "pygments_lexer": "ipython3",
   "version": "3.13.5"
  }
 },
 "nbformat": 4,
 "nbformat_minor": 5
}
