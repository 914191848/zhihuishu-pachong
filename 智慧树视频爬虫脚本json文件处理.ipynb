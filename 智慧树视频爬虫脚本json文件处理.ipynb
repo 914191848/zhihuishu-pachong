{
 "cells": [
  {
   "cell_type": "code",
   "execution_count": 1,
   "id": "805617fa",
   "metadata": {},
   "outputs": [],
   "source": [
    "import json"
   ]
  },
  {
   "cell_type": "code",
   "execution_count": null,
   "id": "b55efc06",
   "metadata": {},
   "outputs": [],
   "source": [
    "# 读取json\n",
    "json_file = r'C:\\Users\\kl\\Downloads\\20250903062555764.json'\n",
    "with open(json_file, \"r\", encoding=\"utf-8\") as f:\n",
    "    data = json.load(f)\n",
    "\n",
    "# 编号 x.x --> xx.xx\n",
    "updated_data = [dict(item, name=\".\".join([\"{:02d}\".format(int(p)) for p in item['number'].split(\".\")]) +' '+item['title']) for item in data]\n",
    "# \".\".join([\"{:02d}\".format(int(p)) for p in item['number'].split(\".\")]) 编号 x.x --> xx.xx"
   ]
  },
  {
   "cell_type": "code",
   "execution_count": null,
   "id": "752dd743",
   "metadata": {},
   "outputs": [],
   "source": [
    "referer = 'https://studyvideoh5.zhihuishu.com/stuStudy?recruitAndCourseId=495b585142514859454a585858465a4759'\n",
    "# 输出下载链接、文件名、referer\n",
    "updated_data2 = [\n",
    "   {\"url\":item['realUrl'],'referer':referer,'filename':item['name']} for item in updated_data\n",
    "   ]"
   ]
  },
  {
   "cell_type": "code",
   "execution_count": null,
   "id": "1abcd552",
   "metadata": {},
   "outputs": [],
   "source": [
    "# url|filename|referer\n",
    "[print(item['url']+'|'+'\"'+item['filename']+'\"'+'|'+item['referer']) for item in updated_data2]"
   ]
  }
 ],
 "metadata": {
  "kernelspec": {
   "display_name": "base",
   "language": "python",
   "name": "python3"
  },
  "language_info": {
   "codemirror_mode": {
    "name": "ipython",
    "version": 3
   },
   "file_extension": ".py",
   "mimetype": "text/x-python",
   "name": "python",
   "nbconvert_exporter": "python",
   "pygments_lexer": "ipython3",
   "version": "3.13.5"
  }
 },
 "nbformat": 4,
 "nbformat_minor": 5
}
